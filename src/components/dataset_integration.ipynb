{
 "cells": [
  {
   "cell_type": "code",
   "execution_count": 1,
   "metadata": {},
   "outputs": [],
   "source": [
    "import os\n",
    "import pandas as pd\n",
    "import numpy as np\n",
    "os.chdir('..')\n",
    "os.chdir('..')\n"
   ]
  },
  {
   "cell_type": "code",
   "execution_count": 2,
   "metadata": {},
   "outputs": [
    {
     "data": {
      "text/plain": [
       "'/home/ayush/Ayush/Internship/Medical'"
      ]
     },
     "execution_count": 2,
     "metadata": {},
     "output_type": "execute_result"
    }
   ],
   "source": [
    "pwd"
   ]
  },
  {
   "cell_type": "code",
   "execution_count": 3,
   "metadata": {},
   "outputs": [],
   "source": [
    "abp= np.load('data/data/N/test_abp1.npy')"
   ]
  },
  {
   "cell_type": "code",
   "execution_count": 4,
   "metadata": {},
   "outputs": [
    {
     "data": {
      "text/plain": [
       "array([[ 78.46785814, 109.36194947,  56.90338148],\n",
       "       [ 75.20546272, 106.96858836,  56.31725223],\n",
       "       [ 79.01842888, 108.67813201,  59.98056005],\n",
       "       ...,\n",
       "       [ 77.46245109, 105.69864165,  60.46900109],\n",
       "       [ 74.15550986, 103.94025389,  57.92910767],\n",
       "       [ 73.51193994, 105.11251239,  57.97795177]])"
      ]
     },
     "execution_count": 4,
     "metadata": {},
     "output_type": "execute_result"
    }
   ],
   "source": [
    "abp"
   ]
  },
  {
   "cell_type": "code",
   "execution_count": 5,
   "metadata": {},
   "outputs": [
    {
     "data": {
      "text/plain": [
       "(5544, 3)"
      ]
     },
     "execution_count": 5,
     "metadata": {},
     "output_type": "execute_result"
    }
   ],
   "source": [
    "abp.shape"
   ]
  },
  {
   "cell_type": "code",
   "execution_count": 6,
   "metadata": {},
   "outputs": [],
   "source": [
    "ecg= np.load('data/data/N/test_ecg1.npy')"
   ]
  },
  {
   "cell_type": "code",
   "execution_count": 7,
   "metadata": {},
   "outputs": [
    {
     "data": {
      "text/plain": [
       "array([[ 0.04003906,  0.05517578,  0.06005859, ...,  0.01025391,\n",
       "        -0.02978516, -0.06494141],\n",
       "       [-0.08984375, -0.09472656, -0.09472656, ..., -0.08007812,\n",
       "        -0.08496094, -0.08984375],\n",
       "       [-0.08496094,  0.        ,  0.22509766, ...,  0.22509766,\n",
       "         0.45507812,  0.49511719],\n",
       "       ...,\n",
       "       [ 0.25      ,  0.24511719,  0.24511719, ...,  0.30029297,\n",
       "         0.31005859,  0.31494141],\n",
       "       [ 0.30029297,  0.28515625,  0.26025391, ...,  0.18994141,\n",
       "         0.18994141,  0.18994141],\n",
       "       [ 0.18994141,  0.1953125 ,  0.18994141, ...,  0.14501953,\n",
       "         0.14013672,  0.13525391]])"
      ]
     },
     "execution_count": 7,
     "metadata": {},
     "output_type": "execute_result"
    }
   ],
   "source": [
    "ecg"
   ]
  },
  {
   "cell_type": "code",
   "execution_count": 8,
   "metadata": {},
   "outputs": [
    {
     "data": {
      "text/plain": [
       "(5544, 125)"
      ]
     },
     "execution_count": 8,
     "metadata": {},
     "output_type": "execute_result"
    }
   ],
   "source": [
    "ecg.shape"
   ]
  },
  {
   "cell_type": "code",
   "execution_count": 9,
   "metadata": {},
   "outputs": [],
   "source": [
    "ppg= np.load('data/data/N/test_ppg1.npy')"
   ]
  },
  {
   "cell_type": "code",
   "execution_count": 10,
   "metadata": {},
   "outputs": [
    {
     "data": {
      "text/plain": [
       "array([[1.8797654 , 1.84946237, 1.81622678, ..., 1.74193548, 1.70185728,\n",
       "        1.65982405],\n",
       "       [1.61388074, 1.5659824 , 1.51612903, ..., 1.47018573, 1.43010753,\n",
       "        1.38807429],\n",
       "       [1.34213099, 1.29423265, 1.24731183, ..., 1.6686217 , 1.62463343,\n",
       "        1.58651026],\n",
       "       ...,\n",
       "       [1.07820137, 1.08602151, 1.10948192, ..., 2.89931574, 2.93352884,\n",
       "        2.95307918],\n",
       "       [2.96285435, 2.971652  , 2.97360704, ..., 2.09677419, 2.07038123,\n",
       "        2.04692082],\n",
       "       [2.02541544, 2.00097752, 1.97653959, ..., 1.43890518, 1.42326491,\n",
       "        1.41055718]])"
      ]
     },
     "execution_count": 10,
     "metadata": {},
     "output_type": "execute_result"
    }
   ],
   "source": [
    "ppg"
   ]
  },
  {
   "cell_type": "code",
   "execution_count": 11,
   "metadata": {},
   "outputs": [
    {
     "data": {
      "text/plain": [
       "(5544, 125)"
      ]
     },
     "execution_count": 11,
     "metadata": {},
     "output_type": "execute_result"
    }
   ],
   "source": [
    "ppg.shape"
   ]
  },
  {
   "cell_type": "code",
   "execution_count": 12,
   "metadata": {},
   "outputs": [],
   "source": [
    "# # import numpy as np\n",
    "\n",
    "# # Load the three .npy files\n",
    "# # file1 = np.load('file1.npy')\n",
    "# # file2 = np.load('file2.npy')\n",
    "# # file3 = np.load('file3.npy')\n",
    "\n",
    "# # Concatenate the rows\n",
    "# concatenated_array = np.hstack((abp, ecg, ppg))\n",
    "\n",
    "# # Create a column with the target value 0\n",
    "# target_column = np.zeros((concatenated_array.shape[0], 1))\n",
    "\n",
    "# # Add the target column to the concatenated array\n",
    "# concatenated_array_with_target = np.hstack((concatenated_array, target_column))\n",
    "\n",
    "# # Print the shape of the new array to verify\n",
    "# print(concatenated_array_with_target.shape)\n",
    "\n",
    "# # Save the new array if needed\n",
    "# # np.save('concatenated_array_with_target.npy', concatenated_array_with_target)\n"
   ]
  },
  {
   "cell_type": "code",
   "execution_count": 13,
   "metadata": {},
   "outputs": [],
   "source": [
    "# concatenated_array_with_target"
   ]
  },
  {
   "cell_type": "code",
   "execution_count": 14,
   "metadata": {},
   "outputs": [],
   "source": [
    "def col_concat(abp, ecg, ppg,con_arr):\n",
    "    concatenated_array = np.hstack((abp, ecg, ppg))\n",
    "    target_column = np.zeros((concatenated_array.shape[0], 1))\n",
    "    concatenated_array_with_target = np.hstack((concatenated_array, target_column))\n",
    "    concatenated_array_with_target= np.vstack((con_arr, concatenated_array_with_target))\n",
    "    return concatenated_array_with_target"
   ]
  },
  {
   "cell_type": "code",
   "execution_count": 15,
   "metadata": {},
   "outputs": [
    {
     "data": {
      "text/plain": [
       "(5544, 254)"
      ]
     },
     "execution_count": 15,
     "metadata": {},
     "output_type": "execute_result"
    }
   ],
   "source": [
    "concatenated_array_with_target=np.empty((0,254))\n",
    "concatenated_array_with_target=col_concat(abp, ecg, ppg, concatenated_array_with_target)\n",
    "concatenated_array_with_target.shape"
   ]
  },
  {
   "cell_type": "code",
   "execution_count": 16,
   "metadata": {},
   "outputs": [
    {
     "data": {
      "text/plain": [
       "(61528, 254)"
      ]
     },
     "execution_count": 16,
     "metadata": {},
     "output_type": "execute_result"
    }
   ],
   "source": [
    "# Loop to generate filenames and read each file\n",
    "for i in range(1, 11):\n",
    "    filename = f'test_abp{i}.npy'\n",
    "    abp = np.load(f'data/data/N/{filename}')\n",
    "    filename = f'test_ecg{i}.npy'\n",
    "    ecg = np.load(f'data/data/N/{filename}')\n",
    "    filename = f'test_ppg{i}.npy'\n",
    "    ppg = np.load(f'data/data/N/{filename}')\n",
    "    concatenated_array_with_target=col_concat(abp, ecg, ppg, concatenated_array_with_target)\n",
    "\n",
    "concatenated_array_with_target.shape\n"
   ]
  },
  {
   "cell_type": "code",
   "execution_count": 17,
   "metadata": {},
   "outputs": [
    {
     "data": {
      "text/plain": [
       "array([[ 78.46785814, 109.36194947,  56.90338148, ...,   1.70185728,\n",
       "          1.65982405,   0.        ],\n",
       "       [ 75.20546272, 106.96858836,  56.31725223, ...,   1.43010753,\n",
       "          1.38807429,   0.        ],\n",
       "       [ 79.01842888, 108.67813201,  59.98056005, ...,   1.62463343,\n",
       "          1.58651026,   0.        ],\n",
       "       ...,\n",
       "       [ 69.68217141,  94.41565356,  57.58719894, ...,   2.80840665,\n",
       "          2.76539589,   0.        ],\n",
       "       [ 66.93830501,  93.53645968,  57.44066662, ...,   1.37634409,\n",
       "          1.40860215,   0.        ],\n",
       "       [ 72.94495758,  95.29484744,  58.02679588, ...,   1.17497556,\n",
       "          1.1886608 ,   0.        ]])"
      ]
     },
     "execution_count": 17,
     "metadata": {},
     "output_type": "execute_result"
    }
   ],
   "source": [
    "concatenated_array_with_target"
   ]
  }
 ],
 "metadata": {
  "kernelspec": {
   "display_name": "myenv",
   "language": "python",
   "name": "python3"
  },
  "language_info": {
   "codemirror_mode": {
    "name": "ipython",
    "version": 3
   },
   "file_extension": ".py",
   "mimetype": "text/x-python",
   "name": "python",
   "nbconvert_exporter": "python",
   "pygments_lexer": "ipython3",
   "version": "3.10.0"
  }
 },
 "nbformat": 4,
 "nbformat_minor": 2
}
